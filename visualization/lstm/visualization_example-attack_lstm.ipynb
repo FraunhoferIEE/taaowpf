{
 "cells": [
  {
   "cell_type": "markdown",
   "metadata": {},
   "source": [
    "# Imports"
   ]
  },
  {
   "cell_type": "code",
   "execution_count": null,
   "metadata": {},
   "outputs": [],
   "source": [
    "import sys\n",
    "import pandas as pd"
   ]
  },
  {
   "cell_type": "code",
   "execution_count": null,
   "metadata": {},
   "outputs": [],
   "source": [
    "sys.path.append('/mnt/home/rheinrich/taaowpf')\n",
    "\n",
    "from visualization.visualization_plots import line_subplot"
   ]
  },
  {
   "cell_type": "markdown",
   "metadata": {},
   "source": [
    "# Read data"
   ]
  },
  {
   "cell_type": "code",
   "execution_count": null,
   "metadata": {},
   "outputs": [],
   "source": [
    "path = './Example_Attack/single_turbine_model/'"
   ]
  },
  {
   "cell_type": "markdown",
   "metadata": {},
   "source": [
    "## Predictions and targets (original and attacked)"
   ]
  },
  {
   "cell_type": "markdown",
   "metadata": {},
   "source": [
    "### Targeted PGD Attack"
   ]
  },
  {
   "cell_type": "code",
   "execution_count": null,
   "metadata": {},
   "outputs": [],
   "source": [
    "pgd_eps015_predictions = pd.read_csv(f'{path}gefcom/single-turbine_gefcom_example-attack_predictions_pgd_normal-training_eps0.15.csv')\n",
    "pgd_eps1_predictions = pd.read_csv(f'{path}gefcom/single-turbine_gefcom_example-attack_predictions_pgd_normal-training_eps1.0.csv')\n",
    "pgd_eps2_predictions = pd.read_csv(f'{path}gefcom/single-turbine_gefcom_example-attack_predictions_pgd_normal-training_eps2.0.csv')\n",
    "pgd_eps3_predictions = pd.read_csv(f'{path}gefcom/single-turbine_gefcom_example-attack_predictions_pgd_normal-training_eps3.0.csv')"
   ]
  },
  {
   "cell_type": "markdown",
   "metadata": {},
   "source": [
    "## Original and perturbed inputs"
   ]
  },
  {
   "cell_type": "markdown",
   "metadata": {},
   "source": [
    "### Targeted PGD Attack"
   ]
  },
  {
   "cell_type": "code",
   "execution_count": null,
   "metadata": {},
   "outputs": [],
   "source": [
    "pgd_eps015_inputs = pd.read_csv(f'{path}gefcom/single-turbine_gefcom_example-attack_inputs_pgd_normal-training_eps0.15.csv')\n",
    "pgd_eps1_inputs = pd.read_csv(f'{path}gefcom/single-turbine_gefcom_example-attack_inputs_pgd_normal-training_eps1.0.csv')\n",
    "pgd_eps2_inputs = pd.read_csv(f'{path}gefcom/single-turbine_gefcom_example-attack_inputs_pgd_normal-training_eps2.0.csv')\n",
    "pgd_eps3_inputs = pd.read_csv(f'{path}gefcom/single-turbine_gefcom_example-attack_inputs_pgd_normal-training_eps3.0.csv')"
   ]
  },
  {
   "cell_type": "markdown",
   "metadata": {},
   "source": [
    "# Impacts of the attack on the predictions \n",
    "# (Behavior for different epsilon values)"
   ]
  },
  {
   "cell_type": "markdown",
   "metadata": {},
   "source": [
    "## Targeted PGD Attack"
   ]
  },
  {
   "cell_type": "markdown",
   "metadata": {},
   "source": [
    "### Visualization of predictions and targets (original and attacked)"
   ]
  },
  {
   "cell_type": "code",
   "execution_count": null,
   "metadata": {},
   "outputs": [],
   "source": [
    "fig_pgd = line_subplot(data = [pgd_eps015_predictions, pgd_eps1_predictions, pgd_eps2_predictions, pgd_eps3_predictions],\n",
    "                     colors = ['green', 'red', 'blue', 'darkorange'],\n",
    "                     dash = ['dash', 'dashdot', 'dot', 'solid'],\n",
    "                     column_titles = ['ε = 0.15', 'ε = 1.0', 'ε = 2.0', 'ε = 3.0'],\n",
    "                     xaxis_title = 'time step [t]',\n",
    "                     yaxis_title = 'wind power',\n",
    "                     legend_title_text = None, \n",
    "                     width_adjustment = 700,\n",
    "                     x_legend = 0.82)\n",
    "\n",
    "fig_pgd.show()"
   ]
  },
  {
   "cell_type": "code",
   "execution_count": null,
   "metadata": {},
   "outputs": [],
   "source": [
    "#fig_pgd.write_image(\"example_attack_prediction_single-turbine.pdf\")"
   ]
  },
  {
   "cell_type": "markdown",
   "metadata": {},
   "source": [
    "### Visualization of original and perturbed inputs"
   ]
  },
  {
   "cell_type": "code",
   "execution_count": null,
   "metadata": {},
   "outputs": [],
   "source": [
    "fig_input = line_subplot(data = [pgd_eps015_inputs, pgd_eps1_inputs, pgd_eps2_inputs, pgd_eps3_inputs],\n",
    "                         colors = ['blue', 'darkorange'],\n",
    "                         dash = ['dot', 'solid'],\n",
    "                         column_titles = ['ε = 0.15', 'ε = 1.0', 'ε = 2.0', 'ε = 3.0'],\n",
    "                         xaxis_title = 'time step [t]',\n",
    "                         yaxis_title = 'wind speed [m/s]',\n",
    "                         legend_title_text = None, \n",
    "                         width_adjustment = 700,\n",
    "                         x_legend = 0.69)\n",
    "\n",
    "fig_input.show()"
   ]
  },
  {
   "cell_type": "code",
   "execution_count": null,
   "metadata": {},
   "outputs": [],
   "source": [
    "#fig_input.write_image(\"example_attack_input_single-turbine.pdf\")"
   ]
  },
  {
   "cell_type": "code",
   "execution_count": null,
   "metadata": {},
   "outputs": [],
   "source": []
  }
 ],
 "metadata": {
  "kernelspec": {
   "display_name": "Python 3 (ipykernel)",
   "language": "python",
   "name": "python3"
  },
  "language_info": {
   "codemirror_mode": {
    "name": "ipython",
    "version": 3
   },
   "file_extension": ".py",
   "mimetype": "text/x-python",
   "name": "python",
   "nbconvert_exporter": "python",
   "pygments_lexer": "ipython3",
   "version": "3.9.15"
  }
 },
 "nbformat": 4,
 "nbformat_minor": 4
}
