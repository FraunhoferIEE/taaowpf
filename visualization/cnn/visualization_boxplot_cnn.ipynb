{
 "cells": [
  {
   "cell_type": "markdown",
   "metadata": {},
   "source": [
    "# Imports"
   ]
  },
  {
   "cell_type": "code",
   "execution_count": null,
   "metadata": {},
   "outputs": [],
   "source": [
    "import sys\n",
    "import pandas as pd\n",
    "\n",
    "sys.path.append('/mnt/home/rheinrich/taaowpf')\n",
    "\n",
    "from visualization.visualization_plots import box_plot_robustness_targeted"
   ]
  },
  {
   "cell_type": "markdown",
   "metadata": {},
   "source": [
    "# Read Data"
   ]
  },
  {
   "cell_type": "markdown",
   "metadata": {},
   "source": [
    "## Targeted Attacks"
   ]
  },
  {
   "cell_type": "code",
   "execution_count": null,
   "metadata": {},
   "outputs": [],
   "source": [
    "results_pgd_targeted_normal_training_increasing = pd.DataFrame()\n",
    "results_pgd_targeted_adversarial_training_increasing = pd.DataFrame()\n",
    "\n",
    "results_pgd_targeted_normal_training_decreasing = pd.DataFrame()\n",
    "results_pgd_targeted_adversarial_training_decreasing = pd.DataFrame()\n",
    "\n",
    "results_pgd_targeted_normal_training_constant = pd.DataFrame()\n",
    "results_pgd_targeted_adversarial_training_constant = pd.DataFrame()\n",
    "\n",
    "results_pgd_targeted_normal_training_zigzag = pd.DataFrame()\n",
    "results_pgd_targeted_adversarial_training_zigzag = pd.DataFrame()\n",
    "\n",
    "\n",
    "for experiment in range(1, 9):\n",
    "    ## Targeted Attacks\n",
    "\n",
    "    ### Increasing Target\n",
    "\n",
    "    # Normal training\n",
    "    results_pgd_targeted_normal_training_increasing_experiment = pd.read_csv(f\"./Robustness_Evaluation/germany_model/all_experiments/pgd_targeted/increasing/germany_results_pgd_targeted_normal-training_target-increasing_experiment{experiment}.csv\")\n",
    "\n",
    "    # concatenate the datasets for the different experiments\n",
    "    results_pgd_targeted_normal_training_increasing = pd.concat([results_pgd_targeted_normal_training_increasing, results_pgd_targeted_normal_training_increasing_experiment], axis = 0)\n",
    "\n",
    "    # Adversarial training\n",
    "    results_pgd_targeted_adversarial_training_increasing_experiment = pd.read_csv(f\"./Robustness_Evaluation/germany_model/all_experiments/pgd_targeted/increasing/germany_results_pgd_targeted_adversarial-training_target-increasing_experiment{experiment}.csv\")\n",
    "\n",
    "    # concatenate the datasets for the different experiments\n",
    "    results_pgd_targeted_adversarial_training_increasing = pd.concat([results_pgd_targeted_adversarial_training_increasing, results_pgd_targeted_adversarial_training_increasing_experiment], axis = 0)\n",
    "\n",
    "\n",
    "    ### Decreasing Target\n",
    "\n",
    "    # Normal training\n",
    "    results_pgd_targeted_normal_training_decreasing_experiment = pd.read_csv(f\"./Robustness_Evaluation/germany_model/all_experiments/pgd_targeted/decreasing/germany_results_pgd_targeted_normal-training_target-decreasing_experiment{experiment}.csv\")\n",
    "\n",
    "    # concatenate the datasets for the different experiments\n",
    "    results_pgd_targeted_normal_training_decreasing = pd.concat([results_pgd_targeted_normal_training_decreasing, results_pgd_targeted_normal_training_decreasing_experiment], axis = 0)\n",
    "\n",
    "    # Adversarial training\n",
    "    results_pgd_targeted_adversarial_training_decreasing_experiment = pd.read_csv(f\"./Robustness_Evaluation/germany_model/all_experiments/pgd_targeted/decreasing/germany_results_pgd_targeted_adversarial-training_target-decreasing_experiment{experiment}.csv\")\n",
    "\n",
    "    # concatenate the datasets for the different experiments\n",
    "    results_pgd_targeted_adversarial_training_decreasing = pd.concat([results_pgd_targeted_adversarial_training_decreasing, results_pgd_targeted_adversarial_training_decreasing_experiment], axis = 0)\n",
    "\n",
    "\n",
    "    ### Constant Target\n",
    "\n",
    "    # Normal training\n",
    "    results_pgd_targeted_normal_training_constant_experiment = pd.read_csv(f\"./Robustness_Evaluation/germany_model/all_experiments/pgd_targeted/constant/germany_results_pgd_targeted_normal-training_target-constant_experiment{experiment}.csv\")\n",
    "\n",
    "    # concatenate the datasets for the different experiments\n",
    "    results_pgd_targeted_normal_training_constant = pd.concat([results_pgd_targeted_normal_training_constant, results_pgd_targeted_normal_training_constant_experiment], axis = 0)\n",
    "\n",
    "    # Adversarial training\n",
    "    results_pgd_targeted_adversarial_training_constant_experiment = pd.read_csv(f\"./Robustness_Evaluation/germany_model/all_experiments/pgd_targeted/constant/germany_results_pgd_targeted_adversarial-training_target-constant_experiment{experiment}.csv\")\n",
    "\n",
    "    # concatenate the datasets for the different experiments\n",
    "    results_pgd_targeted_adversarial_training_constant = pd.concat([results_pgd_targeted_adversarial_training_constant, results_pgd_targeted_adversarial_training_constant_experiment], axis = 0)\n",
    "\n",
    "\n",
    "    ### Zigzag Target\n",
    "\n",
    "    # Normal training\n",
    "    results_pgd_targeted_normal_training_zigzag_experiment = pd.read_csv(f\"./Robustness_Evaluation/germany_model/all_experiments/pgd_targeted/zigzag/germany_results_pgd_targeted_normal-training_target-zigzag_experiment{experiment}.csv\")\n",
    "\n",
    "    # concatenate the datasets for the different experiments\n",
    "    results_pgd_targeted_normal_training_zigzag = pd.concat([results_pgd_targeted_normal_training_zigzag, results_pgd_targeted_normal_training_zigzag_experiment], axis = 0)\n",
    "\n",
    "    # Adversarial training\n",
    "    results_pgd_targeted_adversarial_training_zigzag_experiment = pd.read_csv(f\"./Robustness_Evaluation/germany_model/all_experiments/pgd_targeted/zigzag/germany_results_pgd_targeted_adversarial-training_target-zigzag_experiment{experiment}.csv\")\n",
    "\n",
    "    # concatenate the datasets for the different experiments\n",
    "    results_pgd_targeted_adversarial_training_zigzag = pd.concat([results_pgd_targeted_adversarial_training_zigzag, results_pgd_targeted_adversarial_training_zigzag_experiment], axis = 0)\n"
   ]
  },
  {
   "cell_type": "markdown",
   "metadata": {},
   "source": [
    "# Targeted Attacks"
   ]
  },
  {
   "cell_type": "code",
   "execution_count": null,
   "metadata": {},
   "outputs": [],
   "source": [
    "fig = box_plot_robustness_targeted(results_pgd_targeted_normal_training_decreasing,\n",
    "                          results_pgd_targeted_adversarial_training_decreasing,\n",
    "                          results_pgd_targeted_normal_training_increasing,\n",
    "                          results_pgd_targeted_adversarial_training_increasing,\n",
    "                          results_pgd_targeted_normal_training_constant,\n",
    "                          results_pgd_targeted_adversarial_training_constant,\n",
    "                          results_pgd_targeted_normal_training_zigzag,\n",
    "                          results_pgd_targeted_adversarial_training_zigzag,\n",
    "                          metric = 'TARS',\n",
    "                         )\n",
    "\n",
    "fig"
   ]
  },
  {
   "cell_type": "code",
   "execution_count": null,
   "metadata": {},
   "outputs": [],
   "source": [
    "#fig.write_image(\"boxplot_targeted_attacks_tars_germany.pdf\")"
   ]
  },
  {
   "cell_type": "code",
   "execution_count": null,
   "metadata": {},
   "outputs": [],
   "source": []
  }
 ],
 "metadata": {
  "kernelspec": {
   "display_name": "Python 3 (ipykernel)",
   "language": "python",
   "name": "python3"
  },
  "language_info": {
   "codemirror_mode": {
    "name": "ipython",
    "version": 3
   },
   "file_extension": ".py",
   "mimetype": "text/x-python",
   "name": "python",
   "nbconvert_exporter": "python",
   "pygments_lexer": "ipython3",
   "version": "3.9.15"
  }
 },
 "nbformat": 4,
 "nbformat_minor": 4
}
