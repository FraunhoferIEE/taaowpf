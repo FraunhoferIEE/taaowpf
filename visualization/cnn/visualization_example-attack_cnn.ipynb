{
 "cells": [
  {
   "cell_type": "markdown",
   "metadata": {},
   "source": [
    "# Imports"
   ]
  },
  {
   "cell_type": "code",
   "execution_count": null,
   "metadata": {},
   "outputs": [],
   "source": [
    "import sys\n",
    "import numpy as np\n",
    "import pandas as pd"
   ]
  },
  {
   "cell_type": "code",
   "execution_count": null,
   "metadata": {},
   "outputs": [],
   "source": [
    "sys.path.append('/mnt/home/rheinrich/taaowpf')\n",
    "\n",
    "from visualization.visualization_plots import line_plot, heatmap_plot"
   ]
  },
  {
   "cell_type": "markdown",
   "metadata": {},
   "source": [
    "# Read data"
   ]
  },
  {
   "cell_type": "code",
   "execution_count": null,
   "metadata": {},
   "outputs": [],
   "source": [
    "path = './Example_Attack/germany_model/'"
   ]
  },
  {
   "cell_type": "markdown",
   "metadata": {},
   "source": [
    "## Predictions and targets (original and attacked)"
   ]
  },
  {
   "cell_type": "markdown",
   "metadata": {},
   "source": [
    "### Targeted PGD Attack"
   ]
  },
  {
   "cell_type": "code",
   "execution_count": null,
   "metadata": {},
   "outputs": [],
   "source": [
    "pgd_eps015_predictions = pd.read_csv(f'{path}germany_example-attack_predictions_pgd_normal-training_eps15e-2.csv')"
   ]
  },
  {
   "cell_type": "markdown",
   "metadata": {},
   "source": [
    "## Original and perturbed inputs"
   ]
  },
  {
   "cell_type": "markdown",
   "metadata": {},
   "source": [
    "### Targeted PGD Attack"
   ]
  },
  {
   "cell_type": "code",
   "execution_count": null,
   "metadata": {},
   "outputs": [],
   "source": [
    "with open(f'{path}germany_example-attack_inputs_pgd_normal-training_eps15e-2.npy', 'rb') as f:\n",
    "    original_windspeed = np.load(f)\n",
    "    perturbed_windspeed = np.load(f)"
   ]
  },
  {
   "cell_type": "code",
   "execution_count": null,
   "metadata": {},
   "outputs": [],
   "source": [
    "difference_windspeed = perturbed_windspeed - original_windspeed"
   ]
  },
  {
   "cell_type": "markdown",
   "metadata": {},
   "source": [
    "# Impacts of the attack on the predictions"
   ]
  },
  {
   "cell_type": "markdown",
   "metadata": {},
   "source": [
    "## Visualize predictions and targets (original and attacked)"
   ]
  },
  {
   "cell_type": "code",
   "execution_count": null,
   "metadata": {},
   "outputs": [],
   "source": [
    "fig_prediction = line_plot(dataframe = pgd_eps015_predictions,\n",
    "                          colors = ['green', 'red', 'blue', 'darkorange'],\n",
    "                          dash = ['dash', 'dashdot', 'dot', 'solid'],\n",
    "                          xaxis_title = 'time step [t]',\n",
    "                          yaxis_title = 'wind power',\n",
    "                          legend_title_text = None\n",
    "                         )\n",
    "\n",
    "fig_prediction.show()"
   ]
  },
  {
   "cell_type": "code",
   "execution_count": null,
   "metadata": {},
   "outputs": [],
   "source": [
    "#fig_prediction.write_image(\"example_attack_prediction_germany.pdf\")"
   ]
  },
  {
   "cell_type": "markdown",
   "metadata": {},
   "source": [
    "# Impacts of the attack on the input data"
   ]
  },
  {
   "cell_type": "markdown",
   "metadata": {},
   "source": [
    "## Visualize original and perturbed inputs"
   ]
  },
  {
   "cell_type": "markdown",
   "metadata": {},
   "source": [
    "### Original wind speed"
   ]
  },
  {
   "cell_type": "code",
   "execution_count": null,
   "metadata": {},
   "outputs": [],
   "source": [
    "fig_heatmap_original = heatmap_plot(data = original_windspeed[7:12],\n",
    "                                     column_titles = ['time step t-4', 'time step t-3', 'time step t-2', 'time step t-1', 'time step t'],\n",
    "                                     yaxis_title = 'wind speed [m/s]',\n",
    "                                     colorscale = 'Viridis',\n",
    "                                     zmin = np.min(original_windspeed[7:12]),\n",
    "                                     zmax = np.max(original_windspeed[7:12]),  \n",
    "                                     width_adjustment= 400)\n",
    "\n",
    "fig_heatmap_original.show()"
   ]
  },
  {
   "cell_type": "code",
   "execution_count": null,
   "metadata": {},
   "outputs": [],
   "source": [
    "#fig_heatmap_original.write_image(\"example_attack_input_original_germany.pdf\")"
   ]
  },
  {
   "cell_type": "markdown",
   "metadata": {},
   "source": [
    "### Perturbed wind speed"
   ]
  },
  {
   "cell_type": "code",
   "execution_count": null,
   "metadata": {},
   "outputs": [],
   "source": [
    "fig_heatmap_perturbed = heatmap_plot(data = perturbed_windspeed[7:12],\n",
    "                                     column_titles = ['time step t-4', 'time step t-3', 'time step t-2', 'time step t-1', 'time step t'],\n",
    "                                     yaxis_title = 'wind speed [m/s]',\n",
    "                                     colorscale = 'Viridis',\n",
    "                                     zmin = np.min(original_windspeed[7:12]),\n",
    "                                     zmax = np.max(original_windspeed[7:12]), \n",
    "                                     width_adjustment = 400)\n",
    "\n",
    "fig_heatmap_perturbed.show()"
   ]
  },
  {
   "cell_type": "code",
   "execution_count": null,
   "metadata": {},
   "outputs": [],
   "source": [
    "#fig_heatmap_perturbed.write_image(\"example_attack_input_perturbed_germany.pdf\")"
   ]
  },
  {
   "cell_type": "markdown",
   "metadata": {},
   "source": [
    "### Difference = perturbed wind speed - original wind speed"
   ]
  },
  {
   "cell_type": "code",
   "execution_count": null,
   "metadata": {},
   "outputs": [],
   "source": [
    "fig_heatmap_difference = heatmap_plot(data = difference_windspeed[7:12],\n",
    "                                     column_titles = ['time step t-4', 'time step t-3', 'time step t-2', 'time step t-1', 'time step t'],\n",
    "                                     yaxis_title = 'difference [m/s]',\n",
    "                                     colorscale = 'RdBu_r',\n",
    "                                     zmin = np.min(difference_windspeed[7:12]),\n",
    "                                     zmax = np.max(difference_windspeed[7:12]), \n",
    "                                     width_adjustment = 400)\n",
    "\n",
    "fig_heatmap_difference.show()"
   ]
  },
  {
   "cell_type": "code",
   "execution_count": null,
   "metadata": {},
   "outputs": [],
   "source": [
    "#fig_heatmap_difference.write_image(\"example_attack_input_difference_germany.pdf\")"
   ]
  },
  {
   "cell_type": "code",
   "execution_count": null,
   "metadata": {},
   "outputs": [],
   "source": []
  }
 ],
 "metadata": {
  "kernelspec": {
   "display_name": "Python 3 (ipykernel)",
   "language": "python",
   "name": "python3"
  },
  "language_info": {
   "codemirror_mode": {
    "name": "ipython",
    "version": 3
   },
   "file_extension": ".py",
   "mimetype": "text/x-python",
   "name": "python",
   "nbconvert_exporter": "python",
   "pygments_lexer": "ipython3",
   "version": "3.9.15"
  }
 },
 "nbformat": 4,
 "nbformat_minor": 4
}
