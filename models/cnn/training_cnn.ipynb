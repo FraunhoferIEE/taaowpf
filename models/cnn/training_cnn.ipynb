{
 "cells": [
  {
   "cell_type": "markdown",
   "id": "3e0ab596-223c-4118-b19d-368089d0ab36",
   "metadata": {},
   "source": [
    "# Imports"
   ]
  },
  {
   "cell_type": "code",
   "execution_count": null,
   "id": "olympic-graduate",
   "metadata": {
    "pycharm": {
     "is_executing": true
    }
   },
   "outputs": [],
   "source": [
    "import random\n",
    "import sys\n",
    "\n",
    "import numpy as np\n",
    "import pytorch_lightning as pl\n",
    "import torch"
   ]
  },
  {
   "cell_type": "code",
   "execution_count": null,
   "id": "determined-princeton",
   "metadata": {},
   "outputs": [],
   "source": [
    "sys.path.append('/mnt/home/rheinrich/taaowpf')\n",
    "\n",
    "from data.cnn.wpf_dataset_germany_all_experiments import WPF_Germany_DataModule\n",
    "from models.cnn.resnet import WPF_ResNet"
   ]
  },
  {
   "cell_type": "markdown",
   "id": "66728345-4731-421f-a361-3d5312aec93d",
   "metadata": {},
   "source": [
    "# Train a separate ResNet model for each of the 8 experiments"
   ]
  },
  {
   "cell_type": "code",
   "execution_count": null,
   "id": "864abef5-541b-4edd-9d85-3db88f05670c",
   "metadata": {},
   "outputs": [],
   "source": [
    "# set seeds for reproducibility\n",
    "torch.manual_seed(0)\n",
    "random.seed(0)\n",
    "np.random.seed(0)"
   ]
  },
  {
   "cell_type": "code",
   "execution_count": null,
   "id": "a94e437c-1947-4320-bea8-840d75afdd0d",
   "metadata": {},
   "outputs": [],
   "source": [
    "for experiment in range(1, 9):\n",
    "    ## Set Hyperparameters for model & training\n",
    "    config = {\n",
    "        'forecast_horizon': 8, # 8 hour ahead wind power forecast \n",
    "        'n_past_timesteps': 4, # Number of past time steps considered for prediction (excluding time step at prediction time)\n",
    "        'resnet_version': 34,\n",
    "        'forecast_version': 'single', #'all',\n",
    "        'batch_size': 256,\n",
    "        'num_workers': 32,\n",
    "        'max_epochs': 100, #300\n",
    "        'learning_rate': 0.001, # Default learning rate of the PyTorch Adam optimizer\n",
    "        'p_adv_training': 1.0, # 0. for normal training ; 1.0 for adversarial training\n",
    "        'eps_adv_training': 0.15, # Maximum perturbation caused by adversarial attacks.\n",
    "        'step_num_adv_training': 100, # Number of PGD-iterations for adversarial attacks.\n",
    "        'norm_adv_training': 'Linf', # Norm used to calculate adversarial attacks.\n",
    "        'checkpoint_dirpath': './checkpoints_adversarial_training/',  # './checkpoints_normal_training/', \n",
    "        'checkpoint_filename': f'best_resnet_model_adversarial_training_experiment{experiment}', # f'best_resnet_model_normal_training_experiment{experiment}',  \n",
    "    }\n",
    "    \n",
    "    # Initialize DataModule\n",
    "    windspeed_dir = '/mnt/home/rheinrich/taaowpf/data/cnn/wind_speed_100m_germany_res10x10_012018_062021.csv'\n",
    "    windpower_dir = '/mnt/home/rheinrich/taaowpf/data/cnn/windpower_germany_102018_062021.csv'\n",
    "    \n",
    "    datamodule = WPF_Germany_DataModule(windspeed_dir = windspeed_dir,\n",
    "                                        windpower_dir = windpower_dir, \n",
    "                                        forecast_horizon = config['forecast_horizon'],  \n",
    "                                        n_past_timesteps = config['n_past_timesteps'],\n",
    "                                        batch_size = config['batch_size'], \n",
    "                                        num_workers = config['num_workers'],\n",
    "                                        experiment = experiment,\n",
    "                                       )\n",
    "    \n",
    "    ## Show input data\n",
    "    #datamodule.setup()\n",
    "    \n",
    "    #fig, axs = plt.subplots(4,3, figsize=(15, 30))\n",
    "    #axs = axs.flatten()\n",
    "    #print(axs.shape)\n",
    "    #for inputs, targets in datamodule.train_dataloader():  \n",
    "    #    input_sample = inputs[0]\n",
    "    #    target_sample = targets[0]\n",
    "\n",
    "    #    print((inputs.shape, targets.shape))\n",
    "    #    print(target_sample)\n",
    "    #    for timestep, ax in zip(list(range(input_sample.shape[0])), axs):\n",
    "    #        ax.set_title(str(timestep))\n",
    "    #        im = ax.imshow(input_sample[timestep].numpy())\n",
    "    #        fig.colorbar(im, ax = ax)\n",
    "\n",
    "    #    plt.show()\n",
    "\n",
    "    #    break    \n",
    "    \n",
    "    \n",
    "    # Model\n",
    "    ## Initiate model and trainer\n",
    "    ### Callbacks\n",
    "    checkpoint_callback = pl.callbacks.ModelCheckpoint(\n",
    "        monitor= 'val_loss',\n",
    "        dirpath=config['checkpoint_dirpath'],\n",
    "        filename=config['checkpoint_filename'], \n",
    "        save_top_k=1,\n",
    "        mode='min')\n",
    "    \n",
    "    early_stopping = pl.callbacks.EarlyStopping(monitor = 'val_loss',\n",
    "                                                patience = 15)\n",
    "    \n",
    "    ### Create model\n",
    "    model = WPF_ResNet(resnet_version = config['resnet_version'],\n",
    "                       forecast_version = config['forecast_version'],\n",
    "                       forecast_horizon = config['forecast_horizon'],\n",
    "                       n_past_timesteps = config['n_past_timesteps'],\n",
    "                       learning_rate= config['learning_rate'],\n",
    "                       p_adv_training = config['p_adv_training'],\n",
    "                       eps_adv_training = config['eps_adv_training'],\n",
    "                       step_num_adv_training = config['step_num_adv_training'],\n",
    "                       norm_adv_training = config['norm_adv_training'])\n",
    "    \n",
    "    ### Create trainer\n",
    "    trainer = pl.Trainer(max_epochs= config['max_epochs'],\n",
    "                         devices = 1,\n",
    "                         accelerator = 'gpu',\n",
    "                         callbacks=[checkpoint_callback, early_stopping],\n",
    "                        )\n",
    "    \n",
    "    ## Train model\n",
    "    ### Fit model\n",
    "    trainer.fit(model, datamodule = datamodule)\n",
    "    \n",
    "    ### Validate model\n",
    "    #### Validation set\n",
    "    #trainer.validate(model, datamodule = datamodule, ckpt_path = 'best')\n",
    "    \n",
    "    #### Test set\n",
    "    #trainer.test(model, datamodule = datamodule, ckpt_path = 'best')"
   ]
  },
  {
   "cell_type": "code",
   "execution_count": null,
   "id": "b3f40334-7eb5-4ed4-8916-e65ca3b80b4a",
   "metadata": {},
   "outputs": [],
   "source": []
  }
 ],
 "metadata": {
  "kernelspec": {
   "display_name": "Python 3 (ipykernel)",
   "language": "python",
   "name": "python3"
  },
  "language_info": {
   "codemirror_mode": {
    "name": "ipython",
    "version": 3
   },
   "file_extension": ".py",
   "mimetype": "text/x-python",
   "name": "python",
   "nbconvert_exporter": "python",
   "pygments_lexer": "ipython3",
   "version": "3.9.15"
  }
 },
 "nbformat": 4,
 "nbformat_minor": 5
}
