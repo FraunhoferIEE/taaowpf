{
 "cells": [
  {
   "cell_type": "markdown",
   "id": "3e0ab596-223c-4118-b19d-368089d0ab36",
   "metadata": {},
   "source": [
    "# Imports"
   ]
  },
  {
   "cell_type": "code",
   "execution_count": null,
   "id": "determined-princeton",
   "metadata": {
    "pycharm": {
     "is_executing": true
    }
   },
   "outputs": [],
   "source": [
    "import random\n",
    "import sys\n",
    "\n",
    "import numpy as np\n",
    "import pytorch_lightning as pl\n",
    "import torch\n",
    "\n",
    "sys.path.append('/mnt/home/rheinrich/taaowpf')\n",
    "\n",
    "from data.lstm.wpf_dataset_single_turbine_gefcom import WPF_SingleTurbine_DataModule\n",
    "from models.lstm.lstm import WPF_AutoencoderLSTM"
   ]
  },
  {
   "cell_type": "markdown",
   "id": "fbe49069-9385-4830-87f3-eb3878f9a6af",
   "metadata": {},
   "source": [
    "# Train a separate LSTM model for each wind farm (zone 1 to 10)."
   ]
  },
  {
   "cell_type": "code",
   "execution_count": null,
   "id": "5ac48be5-5f3e-46df-849e-d37228c59530",
   "metadata": {},
   "outputs": [],
   "source": [
    "# set seeds for reproducibility\n",
    "torch.manual_seed(0)\n",
    "random.seed(0)\n",
    "np.random.seed(0)"
   ]
  },
  {
   "cell_type": "code",
   "execution_count": null,
   "id": "c95ba3ce-b041-43dc-b20d-d500aa6e9539",
   "metadata": {},
   "outputs": [],
   "source": [
    "for zone in range(1, 11):\n",
    "    ## Set Hyperparameters for model & training\n",
    "    # hyperparameters after hyperparameter tuning\n",
    "    config = {\n",
    "        'forecast_horizon': 8, # 8 hour ahead wind power forecast \n",
    "        'n_past_timesteps': 12, # Number of past timesteps considered for prediction (including time step at prediction time)\n",
    "        'hidden_size': 32,\n",
    "        'num_layers': 1,\n",
    "        'batch_size': 256,\n",
    "        'num_workers': 32,\n",
    "        'max_epochs': 100, \n",
    "        'learning_rate': 0.01, \n",
    "        'p_adv_training': 1.0, # 0. for normal training ; 1.0 for adversarial training\n",
    "        'eps_adv_training': 0.15, # Maximum perturbation caused by adversarial attacks.\n",
    "        'step_num_adv_training': 100, # Number of PGD-iterations for adversarial attacks.\n",
    "        'norm_adv_training': 'Linf', # Norm used to calculate adversarial attacks\n",
    "        'checkpoint_dirpath': './checkpoints_adversarial_training/', # './checkpoints_normal_training/',\n",
    "        'checkpoint_filename': f'best_lstm_model_gefcom_adversarial_training_zone{zone}', # f'best_lstm_model_gefcom_normal_training_zone{zone}', \n",
    "    }\n",
    "    \n",
    "    # Initialize DataModule\n",
    "    data_dir = f'/mnt/home/rheinrich/taaowpf/data/lstm/Gefcom2014_Wind/gefcom2014_W_100m_zone{zone}.csv'\n",
    "    \n",
    "    datamodule = WPF_SingleTurbine_DataModule(data_dir = data_dir,\n",
    "                                              forecast_horizon = config['forecast_horizon'],\n",
    "                                              n_past_timesteps = config['n_past_timesteps'],\n",
    "                                              batch_size = config['batch_size'],\n",
    "                                              num_workers = config['num_workers'],\n",
    "                                             )\n",
    "    \n",
    "    ## Show input data\n",
    "    #datamodule.setup()\n",
    "    \n",
    "    #fig, axs = plt.subplots(1,3, figsize=(15, 5))\n",
    "    #axs = axs.flatten()\n",
    "\n",
    "    #for inputs_windspeed, inputs_windpower, targets in datamodule.train_dataloader():  \n",
    "    #    input_sample_windspeed = inputs_windspeed[0]\n",
    "    #    input_sample_windpower = inputs_windpower[0]\n",
    "    #    target_sample = targets[0]\n",
    "\n",
    "    #    print((inputs_windspeed.shape, inputs_windpower.shape, targets.shape))\n",
    "    #    print(target_sample)\n",
    "\n",
    "    #    f1 = pd.DataFrame(input_sample_windspeed.numpy()).plot(title = \"Input Wind Speed\", ax = axs[0])\n",
    "    #    f2 = pd.DataFrame(input_sample_windpower.numpy()).plot(title = \"Input Wind Power\", ax = axs[1])\n",
    "    #    f3 = pd.DataFrame(target_sample.numpy()).plot(title = \"Target\", ax = axs[2])\n",
    "    #    plt.show()\n",
    "\n",
    "    #    break   \n",
    "        \n",
    "    # Model\n",
    "    ## Initiate model and trainer\n",
    "    ### Callbacks\n",
    "    checkpoint_callback = pl.callbacks.ModelCheckpoint(\n",
    "        monitor= 'val_loss',\n",
    "        dirpath=config['checkpoint_dirpath'],\n",
    "        filename=config['checkpoint_filename'], \n",
    "        save_top_k=1,\n",
    "        mode='min')\n",
    "    \n",
    "    early_stopping = pl.callbacks.EarlyStopping(monitor = 'val_loss',\n",
    "                                                patience = 15)\n",
    "    \n",
    "    ### Create model\n",
    "    model = WPF_AutoencoderLSTM(forecast_horizon = config['forecast_horizon'],\n",
    "                            n_past_timesteps = config['n_past_timesteps'],\n",
    "                            hidden_size = config['hidden_size'],\n",
    "                            num_layers = config['num_layers'],\n",
    "                            learning_rate= config['learning_rate'],\n",
    "                            p_adv_training = config['p_adv_training'],\n",
    "                            eps_adv_training = config['eps_adv_training'],\n",
    "                            step_num_adv_training = config['step_num_adv_training'],\n",
    "                            norm_adv_training = config['norm_adv_training'])\n",
    "    \n",
    "    ### Create trainer\n",
    "    trainer = pl.Trainer(max_epochs= config['max_epochs'],\n",
    "                     devices = 1,\n",
    "                     accelerator = 'gpu',\n",
    "                     callbacks=[checkpoint_callback, early_stopping],\n",
    "                    )\n",
    "    \n",
    "    ## Train model\n",
    "    ### Fit model\n",
    "    trainer.fit(model, datamodule = datamodule)\n",
    "    \n",
    "    ### Validate model\n",
    "    #### Validation set\n",
    "    # trainer.validate(model, datamodule = datamodule, ckpt_path = 'best')\n",
    "    \n",
    "    #### Test set\n",
    "    # trainer.test(model, datamodule = datamodule, ckpt_path = 'best')"
   ]
  }
 ],
 "metadata": {
  "kernelspec": {
   "display_name": "Python 3 (ipykernel)",
   "language": "python",
   "name": "python3"
  },
  "language_info": {
   "codemirror_mode": {
    "name": "ipython",
    "version": 3
   },
   "file_extension": ".py",
   "mimetype": "text/x-python",
   "name": "python",
   "nbconvert_exporter": "python",
   "pygments_lexer": "ipython3",
   "version": "3.9.15"
  }
 },
 "nbformat": 4,
 "nbformat_minor": 5
}
