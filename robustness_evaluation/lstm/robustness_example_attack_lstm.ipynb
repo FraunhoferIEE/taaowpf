{
 "cells": [
  {
   "cell_type": "markdown",
   "id": "3e0ab596-223c-4118-b19d-368089d0ab36",
   "metadata": {},
   "source": [
    "# Imports"
   ]
  },
  {
   "cell_type": "code",
   "execution_count": null,
   "id": "olympic-graduate",
   "metadata": {},
   "outputs": [],
   "source": [
    "import numpy as np\n",
    "import pandas as pd\n",
    "\n",
    "import torch\n",
    "\n",
    "from captum.robust import PGD\n",
    "\n",
    "import random"
   ]
  },
  {
   "cell_type": "code",
   "execution_count": null,
   "id": "determined-princeton",
   "metadata": {},
   "outputs": [],
   "source": [
    "import sys\n",
    "\n",
    "sys.path.append('/mnt/home/rheinrich/taaowpf')\n",
    "\n",
    "from data.lstm.wpf_dataset_single_turbine_gefcom import WPF_SingleTurbine_DataModule\n",
    "from models.lstm.lstm import WPF_AutoencoderLSTM\n",
    "from robustness_evaluation.robustness_scores import MSELossBatch"
   ]
  },
  {
   "cell_type": "markdown",
   "id": "official-century",
   "metadata": {
    "tags": []
   },
   "source": [
    "## Set Hyperparameters for Model & Training"
   ]
  },
  {
   "cell_type": "code",
   "execution_count": null,
   "id": "alpine-sunset",
   "metadata": {},
   "outputs": [],
   "source": [
    "config = {\n",
    "    'checkpoint_path_normal_training': '/mnt/home/rheinrich/taaowpf/models/lstm/checkpoints_normal_training/best_lstm_model_gefcom_normal_training_zone1.ckpt',\n",
    "    'checkpoint_path_adversarial_training': '/mnt/home/rheinrich/taaowpf/models/lstm/checkpoints_adversarial_training/best_lstm_model_gefcom_adversarial_training_zone1.ckpt',\n",
    "    'forecast_horizon': 8, # 8 hour ahead wind power forecast \n",
    "    'n_past_timesteps': 12, # including current time step\n",
    "    'hidden_size': 32,\n",
    "    'num_layers': 1,\n",
    "    'batch_size': 256,\n",
    "    'num_workers': 32,\n",
    "    'learning_rate': 0.01,\n",
    "    'p_adv_training': 0.0,\n",
    "    'eps_adv_training': 0.15, \n",
    "    'step_num_adv_training': 100,\n",
    "    'norm_adv_training': 'Linf',\n",
    "    'target_attacker': [0.25, 0.40, 0.50, 0.60, 0.65, 0.72, 0.78, 0.82], # increasing\n",
    "    'step_num_noise_attack': 100,\n",
    "    'eps_pgd_attack_list': [0.15, 1.0, 2.0, 3.0],\n",
    "}"
   ]
  },
  {
   "cell_type": "markdown",
   "id": "final-porcelain",
   "metadata": {},
   "source": [
    "# Initialize DataModule"
   ]
  },
  {
   "cell_type": "code",
   "execution_count": null,
   "id": "d0dd4490-e299-4da4-b727-e1eaac7ca636",
   "metadata": {},
   "outputs": [],
   "source": [
    "data_dir = '/mnt/home/rheinrich/taaowpf/data/lstm/Gefcom2014_Wind/gefcom2014_W_100m_zone1.csv'"
   ]
  },
  {
   "cell_type": "code",
   "execution_count": null,
   "id": "489f6e19-7f3d-4ef3-92ba-2725035ececa",
   "metadata": {},
   "outputs": [],
   "source": [
    "datamodule = WPF_SingleTurbine_DataModule(data_dir = data_dir,\n",
    "                                          forecast_horizon = config['forecast_horizon'],  \n",
    "                                          n_past_timesteps = config['n_past_timesteps'],\n",
    "                                          batch_size = config['batch_size'], \n",
    "                                          num_workers = config['num_workers'],\n",
    "                                         )"
   ]
  },
  {
   "cell_type": "code",
   "execution_count": null,
   "id": "307edb13-661f-436c-863a-bc3e253fcfa7",
   "metadata": {},
   "outputs": [],
   "source": [
    "datamodule.setup()"
   ]
  },
  {
   "cell_type": "markdown",
   "id": "8c2b37da-db7f-4cdf-8c68-f56a38df6ae9",
   "metadata": {},
   "source": [
    "## Load examplary sample"
   ]
  },
  {
   "cell_type": "code",
   "execution_count": null,
   "id": "56f0f539-29ac-4f83-aaf1-cab7a1212fc4",
   "metadata": {},
   "outputs": [],
   "source": [
    "input_windspeed, input_windpower, target = datamodule.test_dataset.__getitem__(1950)"
   ]
  },
  {
   "cell_type": "code",
   "execution_count": null,
   "id": "4311999e-1876-4e34-ba16-101a3b9dac38",
   "metadata": {},
   "outputs": [],
   "source": [
    "input_windspeed, input_windpower = input_windspeed.unsqueeze(0), input_windpower.unsqueeze(0)"
   ]
  },
  {
   "cell_type": "markdown",
   "id": "d26a58b4-df51-4132-9be4-6092302f34fe",
   "metadata": {},
   "source": [
    "#### Destandardized wind speed of the original input sample"
   ]
  },
  {
   "cell_type": "code",
   "execution_count": null,
   "id": "e05c388c-559f-4307-b902-86d82a4803b3",
   "metadata": {},
   "outputs": [],
   "source": [
    "input_windspeed_destandardized = (input_windspeed * datamodule.std_windspeed) + datamodule.mean_windspeed"
   ]
  },
  {
   "cell_type": "code",
   "execution_count": null,
   "id": "63d3301b-a2d9-4a7e-a56e-6049b46af978",
   "metadata": {},
   "outputs": [],
   "source": [
    "input_windspeed_destandardized = input_windspeed_destandardized.squeeze().detach().numpy()"
   ]
  },
  {
   "cell_type": "markdown",
   "id": "bd8e8aa7-dda8-475e-8a69-885e589ebb6f",
   "metadata": {},
   "source": [
    "# Initialize Models"
   ]
  },
  {
   "cell_type": "markdown",
   "id": "dd81cc9a-72c4-4c2c-9abe-0917dab13462",
   "metadata": {},
   "source": [
    "## Load best model checkpoint"
   ]
  },
  {
   "cell_type": "markdown",
   "id": "6eaf9623-6374-460a-be39-b5fa84bee891",
   "metadata": {},
   "source": [
    "#### Normal Training"
   ]
  },
  {
   "cell_type": "code",
   "execution_count": null,
   "id": "635bc0aa-9b80-4e28-ba46-dcc6a9c85f7e",
   "metadata": {},
   "outputs": [],
   "source": [
    "model_normal_training = WPF_AutoencoderLSTM.load_from_checkpoint(config['checkpoint_path_normal_training'],\n",
    "                                                                forecast_horizon = config['forecast_horizon'],\n",
    "                                                                n_past_timesteps = config['n_past_timesteps'],\n",
    "                                                                hidden_size = config['hidden_size'],\n",
    "                                                                num_layers = config['num_layers'],\n",
    "                                                                learning_rate= config['learning_rate'],\n",
    "                                                                p_adv_training = config['p_adv_training'],\n",
    "                                                                eps_adv_training = config['eps_adv_training'],\n",
    "                                                                step_num_adv_training = config['step_num_adv_training'],\n",
    "                                                                norm_adv_training = config['norm_adv_training']\n",
    "                                                              )"
   ]
  },
  {
   "cell_type": "markdown",
   "id": "4296e5e1-76c0-42b9-99e9-dd955347a0a8",
   "metadata": {},
   "source": [
    "### Set models to evaluation mode"
   ]
  },
  {
   "cell_type": "code",
   "execution_count": null,
   "id": "4a21912b-c85b-46c4-b0e6-e66f4ae795f0",
   "metadata": {},
   "outputs": [],
   "source": [
    "model_normal_training.eval()"
   ]
  },
  {
   "cell_type": "markdown",
   "id": "3fad023a-e4df-47e6-a7dd-2d7e50789f02",
   "metadata": {},
   "source": [
    "## Model prediction for original input"
   ]
  },
  {
   "cell_type": "markdown",
   "id": "4bbea8b1-a8a9-4170-b105-1f88f7e18b9a",
   "metadata": {},
   "source": [
    "#### Normal Training"
   ]
  },
  {
   "cell_type": "code",
   "execution_count": null,
   "id": "f8792b3d-cb21-4b3c-b82a-2077f09be9c3",
   "metadata": {},
   "outputs": [],
   "source": [
    "with torch.no_grad():\n",
    "    prediction_normal_training = model_normal_training(input_windspeed, input_windpower)"
   ]
  },
  {
   "cell_type": "markdown",
   "id": "17822385-09c8-42dd-bbb0-f9054b660266",
   "metadata": {},
   "source": [
    "# Adversarial Robustness Evaluation: Example Attack"
   ]
  },
  {
   "cell_type": "code",
   "execution_count": null,
   "id": "f41a136e-da0d-4a57-bd15-ec84bbb78edc",
   "metadata": {},
   "outputs": [],
   "source": [
    "# set seeds for reproducibility\n",
    "torch.manual_seed(0)\n",
    "random.seed(0)\n",
    "np.random.seed(0)"
   ]
  },
  {
   "cell_type": "markdown",
   "id": "baa72a9f-9f4d-42f1-a340-399d702589e7",
   "metadata": {},
   "source": [
    "#### Set lower bound for perturbations, such that perturbed wind speed is never negative"
   ]
  },
  {
   "cell_type": "code",
   "execution_count": null,
   "id": "1aaef573-2cfe-409d-b365-ae1bd8a6000a",
   "metadata": {},
   "outputs": [],
   "source": [
    "lower_bound = (0 - datamodule.mean_windspeed) / datamodule.std_windspeed"
   ]
  },
  {
   "cell_type": "markdown",
   "id": "5f5857c3-2c8a-4499-8be5-8a38c4398528",
   "metadata": {},
   "source": [
    "#### Target of the attacker"
   ]
  },
  {
   "cell_type": "code",
   "execution_count": null,
   "id": "46b7559c-0a71-49a4-8c45-66289a0a933a",
   "metadata": {},
   "outputs": [],
   "source": [
    "target_attacker = torch.tensor(config['target_attacker'])"
   ]
  },
  {
   "cell_type": "markdown",
   "id": "cfc336f4-f5ad-4222-b60b-6e855705ee82",
   "metadata": {},
   "source": [
    "#### DataFrame containing the ground truth target, the attacker's target such as the prediction of the model for the original input"
   ]
  },
  {
   "cell_type": "markdown",
   "id": "09d38aaa-27a3-43c6-8a0b-5c2dd2365aad",
   "metadata": {},
   "source": [
    "##### Normal Training"
   ]
  },
  {
   "cell_type": "code",
   "execution_count": null,
   "id": "cd0e3801-900e-490f-90bf-30e05a7af7b1",
   "metadata": {},
   "outputs": [],
   "source": [
    "results_normal_training = pd.DataFrame(target.detach().numpy(), columns = ['ground truth'])\n",
    "results_normal_training[\"attacker's target\"] = target_attacker.numpy()\n",
    "results_normal_training['original prediction'] = prediction_normal_training.detach().numpy()[0]"
   ]
  },
  {
   "cell_type": "markdown",
   "id": "65e6bc3f-73db-4737-b01a-148d344279d0",
   "metadata": {},
   "source": [
    "## Adversarial Robustness: Targeted PGD Attack (example attack)"
   ]
  },
  {
   "cell_type": "code",
   "execution_count": null,
   "id": "5b339b80-8f95-4ee7-ab00-102f0fbbc6e4",
   "metadata": {},
   "outputs": [],
   "source": [
    "for eps_pgd_attack in config['eps_pgd_attack_list']:\n",
    "    #### Initialize PGD Attack\n",
    "    pgd_normal_training = PGD(model_normal_training, MSELossBatch(), lower_bound = lower_bound)\n",
    "    \n",
    "    #### Generate perturbed input\n",
    "    input_windspeed_pgd_normal_training = pgd_normal_training.perturb(inputs = input_windspeed,\n",
    "                                                                  radius = eps_pgd_attack,\n",
    "                                                                  step_num = config['step_num_adv_training'],\n",
    "                                                                  step_size = 2 * eps_pgd_attack / config['step_num_adv_training'],\n",
    "                                                                  target = target_attacker.unsqueeze(0), \n",
    "                                                                  targeted = True,\n",
    "                                                                  norm = config['norm_adv_training'],\n",
    "                                                                  additional_forward_args = input_windpower\n",
    "                                                                 )\n",
    "    #### Model prediction for perturbed input\n",
    "    with torch.no_grad():\n",
    "        prediction_pgd_normal_training = model_normal_training(input_windspeed_pgd_normal_training, input_windpower)\n",
    "        \n",
    "    #### DataFrame with results (ground truth target, attacker's target, prediction for original input, prediction for perturbed input)\n",
    "    results_pgd_normal_training = results_normal_training.copy()\n",
    "    results_pgd_normal_training['attacked prediction'] = prediction_pgd_normal_training.detach().numpy()[0]\n",
    "    \n",
    "    #### Destandardized wind speed of the perturbed input sample\n",
    "    input_windspeed_pgd_normal_training_destandardized = (input_windspeed_pgd_normal_training * datamodule.std_windspeed) + datamodule.mean_windspeed\n",
    "    \n",
    "    input_windspeed_pgd_normal_training_destandardized = input_windspeed_pgd_normal_training_destandardized.squeeze().detach().numpy()\n",
    "    \n",
    "    inputs_pgd_normal_training = pd.DataFrame([input_windspeed_destandardized, input_windspeed_pgd_normal_training_destandardized]).T\n",
    "    inputs_pgd_normal_training.columns = ['original wind speed', 'perturbed wind speed']\n",
    "    \n",
    "    # Save all results as CSV file\n",
    "    \n",
    "    ### Predictions\n",
    "    results_pgd_normal_training.to_csv(f\"single-turbine_gefcom_example-attack_predictions_pgd_normal-training_eps{str(eps_pgd_attack)}.csv\", index = False)\n",
    "    \n",
    "    ### Inputs\n",
    "    inputs_pgd_normal_training.to_csv(f\"single-turbine_gefcom_example-attack_inputs_pgd_normal-training_eps{str(eps_pgd_attack)}.csv\", index = False)"
   ]
  }
 ],
 "metadata": {
  "kernelspec": {
   "display_name": "Python 3 (ipykernel)",
   "language": "python",
   "name": "python3"
  },
  "language_info": {
   "codemirror_mode": {
    "name": "ipython",
    "version": 3
   },
   "file_extension": ".py",
   "mimetype": "text/x-python",
   "name": "python",
   "nbconvert_exporter": "python",
   "pygments_lexer": "ipython3",
   "version": "3.9.15"
  }
 },
 "nbformat": 4,
 "nbformat_minor": 5
}
