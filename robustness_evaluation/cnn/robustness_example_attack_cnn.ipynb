{
 "cells": [
  {
   "cell_type": "markdown",
   "id": "3e0ab596-223c-4118-b19d-368089d0ab36",
   "metadata": {},
   "source": [
    "# Imports"
   ]
  },
  {
   "cell_type": "code",
   "execution_count": null,
   "id": "olympic-graduate",
   "metadata": {},
   "outputs": [],
   "source": [
    "import numpy as np\n",
    "import pandas as pd\n",
    "\n",
    "import torch\n",
    "\n",
    "from captum.robust import PGD"
   ]
  },
  {
   "cell_type": "code",
   "execution_count": null,
   "id": "determined-princeton",
   "metadata": {},
   "outputs": [],
   "source": [
    "import sys\n",
    "\n",
    "sys.path.append('/mnt/home/rheinrich/taaowpf')\n",
    "\n",
    "from data.cnn.wpf_dataset_germany_all_experiments import WPF_Germany_DataModule\n",
    "from models.cnn.resnet import WPF_ResNet\n",
    "from robustness_evaluation.robustness_scores import MSELossBatch"
   ]
  },
  {
   "cell_type": "markdown",
   "id": "official-century",
   "metadata": {
    "tags": []
   },
   "source": [
    "## Set Hyperparameters for Model & Training"
   ]
  },
  {
   "cell_type": "code",
   "execution_count": null,
   "id": "daac54c0-0382-482e-a7c1-545fb5b1a607",
   "metadata": {},
   "outputs": [],
   "source": [
    "config = {\n",
    "    'checkpoint_path_normal_training': '/mnt/home/rheinrich/taaowpf/models/cnn/checkpoints_normal_training/best_resnet_model_normal_training_experiment1.ckpt',\n",
    "    'checkpoint_path_adversarial_training': '/mnt/home/rheinrich/taaowpf/models/cnn/checkpoints_adversarial_training/best_resnet_model_adversarial_training_experiment1.ckpt',\n",
    "    'forecast_horizon': 8, # 8 hour ahead wind power forecast \n",
    "    'n_past_timesteps': 4, # including current time step\n",
    "    'resnet_version': 34,\n",
    "    'forecast_version': 'single', #'all',\n",
    "    'batch_size': 256,\n",
    "    'num_workers': 32,\n",
    "    'learning_rate': 0.001,\n",
    "    'p_adv_training': 0.,\n",
    "    'eps_adv_training': 0.15,\n",
    "    'step_num_adv_training': 100,\n",
    "    'norm_adv_training': 'Linf',\n",
    "    'target_attacker': [0.25, 0.40, 0.50, 0.60, 0.65, 0.72, 0.78, 0.82], # increasing\n",
    "    'step_num_noise_attack': 100,\n",
    "}"
   ]
  },
  {
   "cell_type": "markdown",
   "id": "final-porcelain",
   "metadata": {},
   "source": [
    "# Initialize DataModule"
   ]
  },
  {
   "cell_type": "code",
   "execution_count": null,
   "id": "d0dd4490-e299-4da4-b727-e1eaac7ca636",
   "metadata": {},
   "outputs": [],
   "source": [
    "windspeed_dir = '/mnt/home/rheinrich/taaowpf/data/cnn/wind_speed_100m_germany_res10x10_012018_062021.csv'\n",
    "windpower_dir = '/mnt/home/rheinrich/taaowpf/data/cnn/windpower_germany_102018_062021.csv'"
   ]
  },
  {
   "cell_type": "code",
   "execution_count": null,
   "id": "489f6e19-7f3d-4ef3-92ba-2725035ececa",
   "metadata": {},
   "outputs": [],
   "source": [
    "datamodule = WPF_Germany_DataModule(windspeed_dir = windspeed_dir,\n",
    "                                    windpower_dir = windpower_dir, \n",
    "                                    forecast_horizon = config['forecast_horizon'],  \n",
    "                                    n_past_timesteps = config['n_past_timesteps'],\n",
    "                                    batch_size = config['batch_size'], \n",
    "                                    num_workers = config['num_workers'],\n",
    "                                    experiment = 1,\n",
    "                                   )"
   ]
  },
  {
   "cell_type": "code",
   "execution_count": null,
   "id": "307edb13-661f-436c-863a-bc3e253fcfa7",
   "metadata": {},
   "outputs": [],
   "source": [
    "datamodule.setup()"
   ]
  },
  {
   "cell_type": "markdown",
   "id": "8c2b37da-db7f-4cdf-8c68-f56a38df6ae9",
   "metadata": {},
   "source": [
    "## Load examplary sample"
   ]
  },
  {
   "cell_type": "code",
   "execution_count": null,
   "id": "56f0f539-29ac-4f83-aaf1-cab7a1212fc4",
   "metadata": {},
   "outputs": [],
   "source": [
    "input_windspeed, target = datamodule.test_dataset.__getitem__(75)"
   ]
  },
  {
   "cell_type": "code",
   "execution_count": null,
   "id": "4311999e-1876-4e34-ba16-101a3b9dac38",
   "metadata": {},
   "outputs": [],
   "source": [
    "input_windspeed = input_windspeed.unsqueeze(0)"
   ]
  },
  {
   "cell_type": "markdown",
   "id": "d26a58b4-df51-4132-9be4-6092302f34fe",
   "metadata": {},
   "source": [
    "#### Destandardized wind speed of the original input sample"
   ]
  },
  {
   "cell_type": "code",
   "execution_count": null,
   "id": "e05c388c-559f-4307-b902-86d82a4803b3",
   "metadata": {},
   "outputs": [],
   "source": [
    "input_windspeed_destandardized = (input_windspeed * datamodule.std_windspeed) + datamodule.mean_windspeed"
   ]
  },
  {
   "cell_type": "code",
   "execution_count": null,
   "id": "63d3301b-a2d9-4a7e-a56e-6049b46af978",
   "metadata": {},
   "outputs": [],
   "source": [
    "input_windspeed_destandardized = input_windspeed_destandardized.squeeze().detach().numpy()"
   ]
  },
  {
   "cell_type": "markdown",
   "id": "bd8e8aa7-dda8-475e-8a69-885e589ebb6f",
   "metadata": {},
   "source": [
    "# Initialize Models"
   ]
  },
  {
   "cell_type": "markdown",
   "id": "dd81cc9a-72c4-4c2c-9abe-0917dab13462",
   "metadata": {},
   "source": [
    "## Load best model checkpoint"
   ]
  },
  {
   "cell_type": "markdown",
   "id": "6eaf9623-6374-460a-be39-b5fa84bee891",
   "metadata": {},
   "source": [
    "#### Normal Training"
   ]
  },
  {
   "cell_type": "code",
   "execution_count": null,
   "id": "635bc0aa-9b80-4e28-ba46-dcc6a9c85f7e",
   "metadata": {},
   "outputs": [],
   "source": [
    "model_normal_training = WPF_ResNet.load_from_checkpoint(config['checkpoint_path_normal_training'],\n",
    "                                                       resnet_version = config['resnet_version'],\n",
    "                                                       forecast_version = config['forecast_version'],\n",
    "                                                       forecast_horizon = config['forecast_horizon'],\n",
    "                                                       n_past_timesteps = config['n_past_timesteps'],\n",
    "                                                       learning_rate= config['learning_rate'],\n",
    "                                                       p_adv_training = config['p_adv_training'],\n",
    "                                                       eps_adv_training = config['eps_adv_training'],\n",
    "                                                       step_num_adv_training = config['step_num_adv_training'],\n",
    "                                                       norm_adv_training = config['norm_adv_training']\n",
    "                                                      )"
   ]
  },
  {
   "cell_type": "markdown",
   "id": "4296e5e1-76c0-42b9-99e9-dd955347a0a8",
   "metadata": {},
   "source": [
    "### Set models to evaluation mode"
   ]
  },
  {
   "cell_type": "code",
   "execution_count": null,
   "id": "4a21912b-c85b-46c4-b0e6-e66f4ae795f0",
   "metadata": {},
   "outputs": [],
   "source": [
    "model_normal_training.eval()"
   ]
  },
  {
   "cell_type": "markdown",
   "id": "3fad023a-e4df-47e6-a7dd-2d7e50789f02",
   "metadata": {},
   "source": [
    "## Model prediction for original input"
   ]
  },
  {
   "cell_type": "markdown",
   "id": "4bbea8b1-a8a9-4170-b105-1f88f7e18b9a",
   "metadata": {},
   "source": [
    "#### Normal Training"
   ]
  },
  {
   "cell_type": "code",
   "execution_count": null,
   "id": "f8792b3d-cb21-4b3c-b82a-2077f09be9c3",
   "metadata": {},
   "outputs": [],
   "source": [
    "with torch.no_grad():\n",
    "    prediction_normal_training = model_normal_training(input_windspeed)"
   ]
  },
  {
   "cell_type": "markdown",
   "id": "17822385-09c8-42dd-bbb0-f9054b660266",
   "metadata": {},
   "source": [
    "# Adversarial Robustness Evaluation: Example Attack"
   ]
  },
  {
   "cell_type": "markdown",
   "id": "baa72a9f-9f4d-42f1-a340-399d702589e7",
   "metadata": {},
   "source": [
    "#### Set lower bound for perturbations, such that perturbed wind speed is never negative"
   ]
  },
  {
   "cell_type": "code",
   "execution_count": null,
   "id": "1aaef573-2cfe-409d-b365-ae1bd8a6000a",
   "metadata": {},
   "outputs": [],
   "source": [
    "lower_bound = (0 - datamodule.mean_windspeed) / datamodule.std_windspeed"
   ]
  },
  {
   "cell_type": "markdown",
   "id": "5f5857c3-2c8a-4499-8be5-8a38c4398528",
   "metadata": {},
   "source": [
    "#### Target of the attacker"
   ]
  },
  {
   "cell_type": "code",
   "execution_count": null,
   "id": "46b7559c-0a71-49a4-8c45-66289a0a933a",
   "metadata": {},
   "outputs": [],
   "source": [
    "target_attacker = torch.tensor(config['target_attacker'])"
   ]
  },
  {
   "cell_type": "markdown",
   "id": "cfc336f4-f5ad-4222-b60b-6e855705ee82",
   "metadata": {},
   "source": [
    "#### DataFrame containing the ground truth target, the attacker's target such as the prediction of the model for the original input"
   ]
  },
  {
   "cell_type": "markdown",
   "id": "09d38aaa-27a3-43c6-8a0b-5c2dd2365aad",
   "metadata": {},
   "source": [
    "##### Normal Training"
   ]
  },
  {
   "cell_type": "code",
   "execution_count": null,
   "id": "cd0e3801-900e-490f-90bf-30e05a7af7b1",
   "metadata": {},
   "outputs": [],
   "source": [
    "results_normal_training = pd.DataFrame(target.detach().numpy(), columns = ['ground truth'])\n",
    "results_normal_training[\"attacker's target\"] = target_attacker.numpy()\n",
    "results_normal_training['original prediction'] = prediction_normal_training.detach().numpy()[0]"
   ]
  },
  {
   "cell_type": "markdown",
   "id": "65e6bc3f-73db-4737-b01a-148d344279d0",
   "metadata": {},
   "source": [
    "## Adversarial Robustness: Targeted PGD Attack (example attack)"
   ]
  },
  {
   "cell_type": "markdown",
   "id": "a1cdb100-fa07-48ed-bc8a-350838e33cbf",
   "metadata": {},
   "source": [
    "### Normal Training"
   ]
  },
  {
   "cell_type": "markdown",
   "id": "17cb5596-56f9-4e0c-a470-3d630e8a3601",
   "metadata": {},
   "source": [
    "#### Initialize PGD Attack"
   ]
  },
  {
   "cell_type": "code",
   "execution_count": null,
   "id": "e4f16712-20f7-4faa-945d-8a8873dd0b8d",
   "metadata": {},
   "outputs": [],
   "source": [
    "pgd_normal_training = PGD(model_normal_training, MSELossBatch(), lower_bound = lower_bound)"
   ]
  },
  {
   "cell_type": "markdown",
   "id": "feec7f4e-e18b-4db4-b6a9-8f89a27b65f4",
   "metadata": {},
   "source": [
    "#### Generate perturbed input"
   ]
  },
  {
   "cell_type": "code",
   "execution_count": null,
   "id": "c4056f33-b0df-4dfd-b087-fcfed24a1f8e",
   "metadata": {},
   "outputs": [],
   "source": [
    "input_windspeed_pgd_normal_training = pgd_normal_training.perturb(inputs = input_windspeed,\n",
    "                                                                  radius = config['eps_adv_training'],\n",
    "                                                                  step_num = config['step_num_adv_training'],\n",
    "                                                                  step_size = 2 * config['eps_adv_training'] / config['step_num_adv_training'],\n",
    "                                                                  target = target_attacker.unsqueeze(0), \n",
    "                                                                  targeted = True,\n",
    "                                                                  norm = config['norm_adv_training']\n",
    "                                                                 )"
   ]
  },
  {
   "cell_type": "markdown",
   "id": "905c7643-c2bc-46c3-a271-aaeb3460d468",
   "metadata": {},
   "source": [
    "#### Model prediction for perturbed input"
   ]
  },
  {
   "cell_type": "code",
   "execution_count": null,
   "id": "af3aca6e-3a38-4874-b2db-8d2b04a5da19",
   "metadata": {},
   "outputs": [],
   "source": [
    "with torch.no_grad():\n",
    "    prediction_pgd_normal_training = model_normal_training(input_windspeed_pgd_normal_training)"
   ]
  },
  {
   "cell_type": "markdown",
   "id": "dbcf5b4b-d915-4940-90ad-b055a2d2fe89",
   "metadata": {},
   "source": [
    "#### DataFrame with results (ground truth target, attacker's target, prediction for original input, prediction for perturbed input)"
   ]
  },
  {
   "cell_type": "code",
   "execution_count": null,
   "id": "0690e1fc-a5a9-4802-882b-08e898eb908b",
   "metadata": {},
   "outputs": [],
   "source": [
    "results_pgd_normal_training = results_normal_training.copy()\n",
    "results_pgd_normal_training['attacked prediction'] = prediction_pgd_normal_training.detach().numpy()[0]"
   ]
  },
  {
   "cell_type": "markdown",
   "id": "be353d06-9fd2-4530-a30c-3996729726ea",
   "metadata": {},
   "source": [
    "#### Destandardized wind speed of the perturbed input sample"
   ]
  },
  {
   "cell_type": "code",
   "execution_count": null,
   "id": "780adcbe-0737-4cdd-9a93-f5f62346824f",
   "metadata": {},
   "outputs": [],
   "source": [
    "input_windspeed_pgd_normal_training_destandardized = (input_windspeed_pgd_normal_training * datamodule.std_windspeed) + datamodule.mean_windspeed"
   ]
  },
  {
   "cell_type": "code",
   "execution_count": null,
   "id": "e5de4092-ca9c-44b6-8cc1-794eece53b51",
   "metadata": {},
   "outputs": [],
   "source": [
    "input_windspeed_pgd_normal_training_destandardized = input_windspeed_pgd_normal_training_destandardized.squeeze().detach().numpy()"
   ]
  },
  {
   "cell_type": "markdown",
   "id": "de4146bc-de4d-4654-8b46-9ddec9ede598",
   "metadata": {},
   "source": [
    "# Save all results as CSV file"
   ]
  },
  {
   "cell_type": "markdown",
   "id": "170a8334-3065-4d91-9006-4803f58f8194",
   "metadata": {},
   "source": [
    "### Predictions"
   ]
  },
  {
   "cell_type": "code",
   "execution_count": null,
   "id": "0a126d76-348d-47ac-9b9f-aae94d11d36e",
   "metadata": {},
   "outputs": [],
   "source": [
    "results_pgd_normal_training.to_csv('germany_example-attack_predictions_pgd_normal-training_eps15e-2.csv', index = False)"
   ]
  },
  {
   "cell_type": "markdown",
   "id": "9b943ef1-eb9c-4b75-8a49-c3591368a2e0",
   "metadata": {},
   "source": [
    "### Inputs"
   ]
  },
  {
   "cell_type": "code",
   "execution_count": null,
   "id": "1dbeb33a-4e59-46c1-968e-7e9cb9d985fe",
   "metadata": {},
   "outputs": [],
   "source": [
    "with open('germany_example-attack_inputs_pgd_normal-training_eps15e-2.npy', 'wb') as f:\n",
    "    np.save(f, input_windspeed_destandardized, allow_pickle = False)\n",
    "    np.save(f, input_windspeed_pgd_normal_training_destandardized, allow_pickle = False)"
   ]
  },
  {
   "cell_type": "code",
   "execution_count": null,
   "id": "2bdfd8fc-ea01-493e-bbc3-b7e1b11be75c",
   "metadata": {},
   "outputs": [],
   "source": []
  }
 ],
 "metadata": {
  "kernelspec": {
   "display_name": "Python 3 (ipykernel)",
   "language": "python",
   "name": "python3"
  },
  "language_info": {
   "codemirror_mode": {
    "name": "ipython",
    "version": 3
   },
   "file_extension": ".py",
   "mimetype": "text/x-python",
   "name": "python",
   "nbconvert_exporter": "python",
   "pygments_lexer": "ipython3",
   "version": "3.9.15"
  }
 },
 "nbformat": 4,
 "nbformat_minor": 5
}
